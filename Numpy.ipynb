{
 "cells": [
  {
   "cell_type": "markdown",
   "metadata": {},
   "source": [
    "<h1 style=\"color: red; text-align:center;\"> Numpy.</h1>"
   ]
  },
  {
   "cell_type": "markdown",
   "metadata": {},
   "source": [
    "<p>Numpy es una libreria de python, la cual provee con manejo de arreglos multi-dimencionales que pueden ser usados como matrices o vectores.</p>\n",
    "<p>Caracteristicas de numpy:</p>\n",
    "<p>* n arreglos: arreglos de n dimencion, del mismo tipo de datos los cuales son eficientes en terminos de espacio y rapidez. Existen metodos para crear narreglos, los cuales nos permiten un rapido proceso de datos sin necesidad de usar loops.</p>\n",
    "<p>* Broadcasting: Una herramienta que define implicitamente el comportamiento entre arreglos multidimencionales de diferentes tamaños.</p>\n",
    "<p>* Vectorizacion: Permite realizar operaciones numericas entre narreglos</p>\n",
    "<p>* Input/Output: Escritura y lectura simple de data en un archivo.</p>"
   ]
  },
  {
   "cell_type": "markdown",
   "metadata": {},
   "source": [
    "<h5>Empezando con narreglos</h5>"
   ]
  },
  {
   "cell_type": "markdown",
   "metadata": {},
   "source": [
    "<p>Creando arreglos de n rango.</p>"
   ]
  },
  {
   "cell_type": "code",
   "execution_count": 1,
   "metadata": {},
   "outputs": [],
   "source": [
    "import numpy as np"
   ]
  },
  {
   "cell_type": "code",
   "execution_count": 2,
   "metadata": {},
   "outputs": [
    {
     "name": "stdout",
     "output_type": "stream",
     "text": [
      "[  1  11 111]\n",
      "<class 'numpy.ndarray'>\n"
     ]
    }
   ],
   "source": [
    "#Creando arreglo de rango 1\n",
    "\n",
    "un_arreglo =  np.array([1, 11, 111])\n",
    "print(un_arreglo)\n",
    "print(type(un_arreglo))"
   ]
  },
  {
   "cell_type": "code",
   "execution_count": 3,
   "metadata": {},
   "outputs": [
    {
     "name": "stdout",
     "output_type": "stream",
     "text": [
      "(3,)\n"
     ]
    }
   ],
   "source": [
    "#Probando la forma del arreglo recien creado. Deberia ser de 1 dimencion\n",
    "\n",
    "print(un_arreglo.shape)"
   ]
  },
  {
   "cell_type": "code",
   "execution_count": 5,
   "metadata": {},
   "outputs": [
    {
     "name": "stdout",
     "output_type": "stream",
     "text": [
      "1 11 111\n"
     ]
    }
   ],
   "source": [
    "#Como es un arreglo de rango 1, solo necesitamos acceder por un indice\n",
    "\n",
    "print(un_arreglo[0], un_arreglo[1], un_arreglo[2])"
   ]
  },
  {
   "cell_type": "code",
   "execution_count": 6,
   "metadata": {},
   "outputs": [
    {
     "name": "stdout",
     "output_type": "stream",
     "text": [
      "[ 99  11 111]\n"
     ]
    }
   ],
   "source": [
    "#Los narreglos son editables, ejemplo de un cambio.\n",
    "\n",
    "un_arreglo[0] = 99\n",
    "print(un_arreglo)"
   ]
  },
  {
   "cell_type": "markdown",
   "metadata": {},
   "source": [
    "<p>Como crear arreglos de rango 2.</p>\n",
    "<p>Un arreglo de rango 2 es un arreglo que posee 2 dimenciones.</p>"
   ]
  },
  {
   "cell_type": "code",
   "execution_count": 9,
   "metadata": {},
   "outputs": [
    {
     "name": "stdout",
     "output_type": "stream",
     "text": [
      "[[11 12 13]\n",
      " [14 15 16]]\n",
      "La forma es dos filas y tres columnas:  (2, 3)\n",
      "Accediendo a los elementos de [0,0], [0,1], [1,0]:  11 ,  12 ,  14\n"
     ]
    }
   ],
   "source": [
    "otro_arreglo = np.array([[11,12,13], [14,15,16]])\n",
    "\n",
    "print(otro_arreglo)\n",
    "\n",
    "print(\"La forma es dos filas y tres columnas: \", otro_arreglo.shape)\n",
    "\n",
    "print(\"Accediendo a los elementos de [0,0], [0,1], [1,0]: \", otro_arreglo[0,0], \", \", otro_arreglo[0,1], \", \", otro_arreglo[1,0])"
   ]
  },
  {
   "cell_type": "markdown",
   "metadata": {},
   "source": [
    "<p>Hay varias maneras de crear arreglos con numpy. Numpy tiene una variedad de metodos que nos ayudan a crear rapidamente arreglos multidimencionales.</p>"
   ]
  },
  {
   "cell_type": "code",
   "execution_count": 1,
   "metadata": {},
   "outputs": [],
   "source": [
    "import numpy as np"
   ]
  },
  {
   "cell_type": "code",
   "execution_count": 3,
   "metadata": {},
   "outputs": [
    {
     "name": "stdout",
     "output_type": "stream",
     "text": [
      "[[0. 0.]\n",
      " [0. 0.]]\n"
     ]
    }
   ],
   "source": [
    "#Crear un arreglo de 2x2 de ceros.\n",
    "\n",
    "ej1 = np.zeros((2,2))\n",
    "print(ej1)"
   ]
  },
  {
   "cell_type": "code",
   "execution_count": 4,
   "metadata": {},
   "outputs": [
    {
     "name": "stdout",
     "output_type": "stream",
     "text": [
      "[[9. 9.]\n",
      " [9. 9.]]\n"
     ]
    }
   ],
   "source": [
    "#Crear un arreglo de 2x2 de nueves.\n",
    "\n",
    "ej2 = np.full((2,2), 9.0)\n",
    "print(ej2)"
   ]
  },
  {
   "cell_type": "code",
   "execution_count": 5,
   "metadata": {},
   "outputs": [
    {
     "name": "stdout",
     "output_type": "stream",
     "text": [
      "[[1. 0.]\n",
      " [0. 1.]]\n"
     ]
    }
   ],
   "source": [
    "#crear una matriz diagonal de 2x2.\n",
    "ej3 = np.eye(2,2)\n",
    "print(ej3)"
   ]
  },
  {
   "cell_type": "code",
   "execution_count": 6,
   "metadata": {},
   "outputs": [
    {
     "name": "stdout",
     "output_type": "stream",
     "text": [
      "[[1. 1.]]\n"
     ]
    }
   ],
   "source": [
    "#Crear un arreglo de unos.\n",
    "\n",
    "ej4 = np.ones((1,2))\n",
    "print(ej4)"
   ]
  },
  {
   "cell_type": "code",
   "execution_count": 8,
   "metadata": {},
   "outputs": [
    {
     "name": "stdout",
     "output_type": "stream",
     "text": [
      "(1, 2)\n",
      "------------------------------\n",
      "1.0\n"
     ]
    }
   ],
   "source": [
    "#Prestar atencion en el arreglo de arriva (ej4), que es un arreglo de rango 2, 2x1\n",
    "print(ej4.shape)\n",
    "\n",
    "#Lo que significa que debemos usar 2 indices para acceder a los elementos.\n",
    "print(\"-\" * 30)\n",
    "print(ej4[0,1])"
   ]
  },
  {
   "cell_type": "code",
   "execution_count": 9,
   "metadata": {},
   "outputs": [
    {
     "name": "stdout",
     "output_type": "stream",
     "text": [
      "[[0.31285389 0.93068169]\n",
      " [0.95560904 0.04800592]]\n"
     ]
    }
   ],
   "source": [
    "#Crear un arreglo de numeros randoms entre 0 y 1.\n",
    "\n",
    "ej5 = np.random.random((2,2))\n",
    "print(ej5)"
   ]
  },
  {
   "cell_type": "markdown",
   "metadata": {},
   "source": [
    "<h5>Recortar arreglos mediante \"slice indexing\".</h5>\n",
    "<p>Similar a cuando se recortan listas o cadenas de texto, se pueden recortar narreglos para acceder a subregiones especificas.</p>"
   ]
  },
  {
   "cell_type": "code",
   "execution_count": 1,
   "metadata": {},
   "outputs": [],
   "source": [
    "import numpy as np"
   ]
  },
  {
   "cell_type": "code",
   "execution_count": 20,
   "metadata": {},
   "outputs": [
    {
     "name": "stdout",
     "output_type": "stream",
     "text": [
      "[[11 12 13 14]\n",
      " [21 22 23 24]\n",
      " [31 32 33 34]]\n"
     ]
    }
   ],
   "source": [
    "#Arreglo de rango 2, de la forma (3, 4): 3 filas, 4 columnas\n",
    "\n",
    "matriz = np.array([[11,12,13,14], [21,22,23,24], [31,32,33,34]])\n",
    "print(matriz)"
   ]
  },
  {
   "cell_type": "code",
   "execution_count": 21,
   "metadata": {},
   "outputs": [
    {
     "name": "stdout",
     "output_type": "stream",
     "text": [
      "[[12 13]\n",
      " [22 23]]\n"
     ]
    }
   ],
   "source": [
    "#Usar slicing para obtener una submatriz de 2x2\n",
    "\n",
    "submatriz = matriz[:2, 1:3]\n",
    "print(submatriz)"
   ]
  },
  {
   "cell_type": "markdown",
   "metadata": {},
   "source": [
    "<p>Cuando se modifica un slice, en realidad se modifica toda la matriz subyacente.</p>"
   ]
  },
  {
   "cell_type": "code",
   "execution_count": 22,
   "metadata": {},
   "outputs": [
    {
     "name": "stdout",
     "output_type": "stream",
     "text": [
      "Antes:  12\n",
      "Despues:  100\n"
     ]
    }
   ],
   "source": [
    "#Miramos el elemento de 0,1\n",
    "print(\"Antes: \", matriz[0,1])\n",
    "\n",
    "#Cambiamos el mismo elemento seleccionado arriba, pero en la submatriz creada.\n",
    "submatriz[0,0] = 100\n",
    "\n",
    "#Miramos el mismo elemento seleccionado de la matriz.\n",
    "print(\"Despues: \", matriz[0,1])"
   ]
  },
  {
   "cell_type": "markdown",
   "metadata": {},
   "source": [
    "<p>Se puede combinar la indexacion y slice para crear matrices de diferentes formas.</p>"
   ]
  },
  {
   "cell_type": "code",
   "execution_count": 23,
   "metadata": {},
   "outputs": [
    {
     "name": "stdout",
     "output_type": "stream",
     "text": [
      "[[11 12 13 14]\n",
      " [21 22 23 24]\n",
      " [31 32 33 34]]\n"
     ]
    }
   ],
   "source": [
    "#Crear un arreglod e rango 2 de la forma(3,4)\n",
    "\n",
    "un_arreglo = np.array([[11,12,13,14], [21,22,23,24], [31,32,33,34]])\n",
    "print(un_arreglo)"
   ]
  },
  {
   "cell_type": "code",
   "execution_count": 24,
   "metadata": {},
   "outputs": [
    {
     "name": "stdout",
     "output_type": "stream",
     "text": [
      "[21 22 23 24] (4,)\n"
     ]
    }
   ],
   "source": [
    "#Usando indexing y slicing para generar un arreglo de rango menor\n",
    "row_rank1 = un_arreglo[1, :]\n",
    "\n",
    "print(row_rank1, row_rank1.shape)"
   ]
  },
  {
   "cell_type": "code",
   "execution_count": 31,
   "metadata": {},
   "outputs": [
    {
     "name": "stdout",
     "output_type": "stream",
     "text": [
      "[12 22 32] (3,)\n",
      "------------------------------\n",
      "[[12]\n",
      " [22]\n",
      " [32]] (3, 1)\n"
     ]
    }
   ],
   "source": [
    "#Podemos hacer lo mismo para columnas de nuestro arreglo\n",
    "\n",
    "col_rank1 = un_arreglo[:, 1]\n",
    "col_rank2 = un_arreglo[:, 1:2]\n",
    "\n",
    "print(col_rank1, col_rank1.shape)\n",
    "print(\"-\" * 30)\n",
    "print(col_rank2, col_rank2.shape)"
   ]
  },
  {
   "cell_type": "markdown",
   "metadata": {},
   "source": [
    "<p>Indexando arreglo para cambiar elementos.</p>"
   ]
  },
  {
   "cell_type": "code",
   "execution_count": 32,
   "metadata": {},
   "outputs": [
    {
     "name": "stdout",
     "output_type": "stream",
     "text": [
      "Arreglo original: \n",
      "[[11 12 13]\n",
      " [21 22 23]\n",
      " [31 32 33]\n",
      " [41 42 43]]\n"
     ]
    }
   ],
   "source": [
    "#Creando un nuevo arreglo\n",
    "\n",
    "arreglo = np.array([[11,12,13], [21,22,23], [31,32,33], [41,42,43]])\n",
    "\n",
    "print(\"Arreglo original: \")\n",
    "print(arreglo)"
   ]
  },
  {
   "cell_type": "code",
   "execution_count": 33,
   "metadata": {},
   "outputs": [
    {
     "name": "stdout",
     "output_type": "stream",
     "text": [
      "\n",
      "Col indices elegidos:  [0 1 2 0]\n",
      "\n",
      "Filas indices elegidos:  [0 1 2 3]\n"
     ]
    }
   ],
   "source": [
    "#Creando un arreglo de indices\n",
    "col_indices = np.array([0,1,2,0])\n",
    "print(\"\\nCol indices elegidos: \", col_indices)\n",
    "\n",
    "row_indices = np.arange(4)\n",
    "print(\"\\nFilas indices elegidos: \", row_indices)"
   ]
  },
  {
   "cell_type": "code",
   "execution_count": 36,
   "metadata": {},
   "outputs": [
    {
     "name": "stdout",
     "output_type": "stream",
     "text": [
      "0 ,  0\n",
      "1 ,  1\n",
      "2 ,  2\n",
      "3 ,  0\n"
     ]
    }
   ],
   "source": [
    "#Examinar los pares de row_indices y col_indices. Son los valores que se van a cambiar.\n",
    "for row,col in zip(row_indices, col_indices):\n",
    "    print(row, \", \", col)"
   ]
  },
  {
   "cell_type": "code",
   "execution_count": 38,
   "metadata": {},
   "outputs": [
    {
     "name": "stdout",
     "output_type": "stream",
     "text": [
      "[[11 12 13]\n",
      " [21 22 23]\n",
      " [31 32 33]\n",
      " [41 42 43]]\n",
      "----------------------------------------\n",
      "Valores en el arreglo con estos indices [11 22 33 41]\n"
     ]
    }
   ],
   "source": [
    "#Seleccionar un elemento de cada fila\n",
    "print(arreglo)\n",
    "print(\"-\" * 40)\n",
    "\n",
    "print(\"Valores en el arreglo con estos indices\", arreglo[row_indices, col_indices])"
   ]
  },
  {
   "cell_type": "code",
   "execution_count": 39,
   "metadata": {},
   "outputs": [
    {
     "name": "stdout",
     "output_type": "stream",
     "text": [
      "[[100011     12     13]\n",
      " [    21 100022     23]\n",
      " [    31     32 100033]\n",
      " [100041     42     43]]\n"
     ]
    }
   ],
   "source": [
    "#Cambiar un elemento de cada fila usando los indices seleccionados\n",
    "\n",
    "arreglo[row_indices, col_indices] += 100000\n",
    "print(arreglo)"
   ]
  },
  {
   "cell_type": "markdown",
   "metadata": {},
   "source": [
    "<h2 style=\"color: purple;\">Indexacion booleana.</h2>"
   ]
  },
  {
   "cell_type": "code",
   "execution_count": 3,
   "metadata": {},
   "outputs": [
    {
     "name": "stdout",
     "output_type": "stream",
     "text": [
      "[[11 12]\n",
      " [21 22]\n",
      " [31 32]]\n"
     ]
    }
   ],
   "source": [
    "#Crear un arreglo de 3x2\n",
    "arreglo = np.array([[11,12], [21,22], [31,32]])\n",
    "print(arreglo)"
   ]
  },
  {
   "cell_type": "code",
   "execution_count": 41,
   "metadata": {},
   "outputs": [
    {
     "data": {
      "text/plain": [
       "array([[False, False],\n",
       "       [ True,  True],\n",
       "       [ True,  True]])"
      ]
     },
     "execution_count": 41,
     "metadata": {},
     "output_type": "execute_result"
    }
   ],
   "source": [
    "#Crear un filtro que seran valores booleandos tales que se cumpla la condicion.\n",
    "\n",
    "filtro = (arreglo > 15)\n",
    "filtro"
   ]
  },
  {
   "cell_type": "code",
   "execution_count": 42,
   "metadata": {},
   "outputs": [
    {
     "name": "stdout",
     "output_type": "stream",
     "text": [
      "[21 22 31 32]\n"
     ]
    }
   ],
   "source": [
    "#Ahora podemos seleccionar los valores que se corresponden con la condicion\n",
    "\n",
    "print(arreglo[filtro])"
   ]
  },
  {
   "cell_type": "code",
   "execution_count": 43,
   "metadata": {},
   "outputs": [
    {
     "data": {
      "text/plain": [
       "array([21, 22, 31, 32])"
      ]
     },
     "execution_count": 43,
     "metadata": {},
     "output_type": "execute_result"
    }
   ],
   "source": [
    "#Una forma corta de hacerlo:\n",
    "arreglo[arreglo > 15]"
   ]
  },
  {
   "cell_type": "markdown",
   "metadata": {},
   "source": [
    "<p>Podemos cambiar elementos de un arreglo usando la misma logica.</p>"
   ]
  },
  {
   "cell_type": "code",
   "execution_count": 4,
   "metadata": {},
   "outputs": [
    {
     "name": "stdout",
     "output_type": "stream",
     "text": [
      "[[ 11 112]\n",
      " [ 21 122]\n",
      " [ 31 132]]\n"
     ]
    }
   ],
   "source": [
    "arreglo[arreglo % 2 == 0] += 100\n",
    "print(arreglo)"
   ]
  },
  {
   "cell_type": "markdown",
   "metadata": {},
   "source": [
    "<h5>Tipos de datos y operaciones de arreglos.</h5>"
   ]
  },
  {
   "cell_type": "code",
   "execution_count": 5,
   "metadata": {},
   "outputs": [
    {
     "name": "stdout",
     "output_type": "stream",
     "text": [
      "int32\n"
     ]
    }
   ],
   "source": [
    "#Python asigna el tipo de dato\n",
    "\n",
    "ej1 = np.array([11,12])\n",
    "print(ej1.dtype)"
   ]
  },
  {
   "cell_type": "code",
   "execution_count": 6,
   "metadata": {},
   "outputs": [
    {
     "name": "stdout",
     "output_type": "stream",
     "text": [
      "float64\n"
     ]
    }
   ],
   "source": [
    "#Python asigna el tipo de dato\n",
    "\n",
    "ej2 = np.array([11.0,12.0])\n",
    "print(ej2.dtype)"
   ]
  },
  {
   "cell_type": "code",
   "execution_count": 7,
   "metadata": {},
   "outputs": [
    {
     "name": "stdout",
     "output_type": "stream",
     "text": [
      "int64\n"
     ]
    }
   ],
   "source": [
    "#nosotros asignamos el tipo de dato.\n",
    "\n",
    "ej3 = np.array([11,21], dtype=np.int64)\n",
    "print(ej3.dtype)"
   ]
  },
  {
   "cell_type": "code",
   "execution_count": 9,
   "metadata": {},
   "outputs": [
    {
     "name": "stdout",
     "output_type": "stream",
     "text": [
      "int64\n",
      "\n",
      "[11 12]\n"
     ]
    }
   ],
   "source": [
    "#Se puede usar la asignacion de tipo de dato para forzar numeros enteros\n",
    "\n",
    "ej4 = np.array([11.1,12.7], dtype = np.int64)\n",
    "print(ej4.dtype)\n",
    "print()\n",
    "print(ej4)"
   ]
  },
  {
   "cell_type": "code",
   "execution_count": 4,
   "metadata": {},
   "outputs": [
    {
     "name": "stdout",
     "output_type": "stream",
     "text": [
      "float64\n",
      "[11. 21.]\n"
     ]
    }
   ],
   "source": [
    "#Tambien se puede usar el dtype para forzar numeros enteros a numeros con coma(flotantes)\n",
    "\n",
    "ej5 = np.array([11, 21], dtype=np.float64)\n",
    "print(ej5.dtype)\n",
    "print(ej5)"
   ]
  },
  {
   "cell_type": "markdown",
   "metadata": {},
   "source": [
    "<h5>Operaciones aritmeticas con arreglos.</h5>"
   ]
  },
  {
   "cell_type": "code",
   "execution_count": 6,
   "metadata": {},
   "outputs": [
    {
     "name": "stdout",
     "output_type": "stream",
     "text": [
      "[[111 112]\n",
      " [121 122]]\n",
      "\n",
      "[[211.1 212.1]\n",
      " [221.1 222.1]]\n"
     ]
    }
   ],
   "source": [
    "x = np.array([[111,112], [121, 122]], dtype=np.int)\n",
    "y = np.array([[211.1, 212.1], [221.1, 222.1]], dtype=np.float64)\n",
    "\n",
    "print(x)\n",
    "print()\n",
    "print(y)"
   ]
  },
  {
   "cell_type": "code",
   "execution_count": 7,
   "metadata": {},
   "outputs": [
    {
     "name": "stdout",
     "output_type": "stream",
     "text": [
      "[[322.1 324.1]\n",
      " [342.1 344.1]]\n",
      "\n",
      "[[322.1 324.1]\n",
      " [342.1 344.1]]\n"
     ]
    }
   ],
   "source": [
    "#suma de matrices\n",
    "\n",
    "print(x + y)\n",
    "print()\n",
    "print(np.add(x, y))"
   ]
  },
  {
   "cell_type": "code",
   "execution_count": 8,
   "metadata": {},
   "outputs": [
    {
     "name": "stdout",
     "output_type": "stream",
     "text": [
      "[[-100.1 -100.1]\n",
      " [-100.1 -100.1]]\n",
      "\n",
      "[[-100.1 -100.1]\n",
      " [-100.1 -100.1]]\n"
     ]
    }
   ],
   "source": [
    "#Resta de matrices\n",
    "\n",
    "print(x - y)\n",
    "print()\n",
    "print(np.subtract(x, y))"
   ]
  },
  {
   "cell_type": "code",
   "execution_count": 9,
   "metadata": {},
   "outputs": [
    {
     "name": "stdout",
     "output_type": "stream",
     "text": [
      "[[23432.1 23755.2]\n",
      " [26753.1 27096.2]]\n",
      "\n",
      "[[23432.1 23755.2]\n",
      " [26753.1 27096.2]]\n"
     ]
    }
   ],
   "source": [
    "#Multiplicacion de matrices\n",
    "\n",
    "print(x * y)\n",
    "print()\n",
    "print(np.multiply(x, y))"
   ]
  },
  {
   "cell_type": "code",
   "execution_count": 10,
   "metadata": {},
   "outputs": [
    {
     "name": "stdout",
     "output_type": "stream",
     "text": [
      "[[0.52581715 0.52805281]\n",
      " [0.54726368 0.54930212]]\n",
      "\n",
      "[[0.52581715 0.52805281]\n",
      " [0.54726368 0.54930212]]\n"
     ]
    }
   ],
   "source": [
    "#Division de matrices\n",
    "\n",
    "print(x / y)\n",
    "print()\n",
    "print(np.divide(x, y))"
   ]
  },
  {
   "cell_type": "code",
   "execution_count": 11,
   "metadata": {},
   "outputs": [
    {
     "name": "stdout",
     "output_type": "stream",
     "text": [
      "[[10.53565375 10.58300524]\n",
      " [11.         11.04536102]]\n"
     ]
    }
   ],
   "source": [
    "#Raiz cuadrada de una matriz (elemento a elemento)\n",
    "\n",
    "print(np.sqrt(x))"
   ]
  },
  {
   "cell_type": "code",
   "execution_count": 12,
   "metadata": {},
   "outputs": [
    {
     "name": "stdout",
     "output_type": "stream",
     "text": [
      "[[1.60948707e+48 4.37503945e+48]\n",
      " [3.54513118e+52 9.63666567e+52]]\n"
     ]
    }
   ],
   "source": [
    "#Exponencial (e ** x)\n",
    "print(np.exp(x))"
   ]
  },
  {
   "cell_type": "markdown",
   "metadata": {},
   "source": [
    "<h5>Metodos estadisticos, de ordenamiento y operaciones de conjuntos.</h5>"
   ]
  },
  {
   "cell_type": "markdown",
   "metadata": {},
   "source": [
    "<p>Operaciones estadisticas basicas.</p>"
   ]
  },
  {
   "cell_type": "code",
   "execution_count": 13,
   "metadata": {},
   "outputs": [
    {
     "name": "stdout",
     "output_type": "stream",
     "text": [
      "[[34.17798613  1.41187042  0.50389243 16.59732602  1.12172792]\n",
      " [-7.29192887 -3.92367802 -2.84786934 -5.20714928 -8.78997699]]\n"
     ]
    }
   ],
   "source": [
    "#Creando una matriz de numeros random de 2x5\n",
    "arr = 10 * np.random.randn(2,5)\n",
    "print(arr)"
   ]
  },
  {
   "cell_type": "code",
   "execution_count": 14,
   "metadata": {},
   "outputs": [
    {
     "name": "stdout",
     "output_type": "stream",
     "text": [
      "2.575220041119695\n"
     ]
    }
   ],
   "source": [
    "#Calculando la media de todos los elementos\n",
    "\n",
    "print(arr.mean())"
   ]
  },
  {
   "cell_type": "code",
   "execution_count": 15,
   "metadata": {},
   "outputs": [
    {
     "name": "stdout",
     "output_type": "stream",
     "text": [
      "[10.76256058 -5.6121205 ]\n"
     ]
    }
   ],
   "source": [
    "#Calculando la media por cada fila\n",
    "\n",
    "print(arr.mean(axis = 1))"
   ]
  },
  {
   "cell_type": "code",
   "execution_count": 16,
   "metadata": {},
   "outputs": [
    {
     "name": "stdout",
     "output_type": "stream",
     "text": [
      "[13.44302863 -1.2559038  -1.17198845  5.69508837 -3.83412454]\n"
     ]
    }
   ],
   "source": [
    "#Calculando la media de cada columna\n",
    "\n",
    "print(arr.mean(axis = 0))"
   ]
  },
  {
   "cell_type": "code",
   "execution_count": 17,
   "metadata": {},
   "outputs": [
    {
     "name": "stdout",
     "output_type": "stream",
     "text": [
      "25.75220041119695\n"
     ]
    }
   ],
   "source": [
    "#Sumar todos los elementos\n",
    "\n",
    "print(arr.sum())"
   ]
  },
  {
   "cell_type": "code",
   "execution_count": 18,
   "metadata": {},
   "outputs": [
    {
     "name": "stdout",
     "output_type": "stream",
     "text": [
      "[ 1.41187042 -5.20714928]\n"
     ]
    }
   ],
   "source": [
    "#Calcular las medianas (valor medio) de cada fila\n",
    "\n",
    "print(np.median(arr, axis=1))"
   ]
  },
  {
   "cell_type": "markdown",
   "metadata": {},
   "source": [
    "<p>Clasificacion (ordenamiento).</p>"
   ]
  },
  {
   "cell_type": "code",
   "execution_count": 19,
   "metadata": {},
   "outputs": [
    {
     "name": "stdout",
     "output_type": "stream",
     "text": [
      "[ 0.7998332  -0.82410475  0.05899271  0.60691929  0.27142678  0.76218053\n",
      " -0.22081111 -0.04293767  2.32892475 -0.83731819]\n"
     ]
    }
   ],
   "source": [
    "#Crear un arreglo de 10 elementos randoms\n",
    "\n",
    "unsorted = np.random.randn(10)\n",
    "\n",
    "print(unsorted)"
   ]
  },
  {
   "cell_type": "code",
   "execution_count": 22,
   "metadata": {},
   "outputs": [
    {
     "name": "stdout",
     "output_type": "stream",
     "text": [
      "[-0.83731819 -0.82410475 -0.22081111 -0.04293767  0.05899271  0.27142678\n",
      "  0.60691929  0.76218053  0.7998332   2.32892475]\n",
      "\n",
      "[ 0.7998332  -0.82410475  0.05899271  0.60691929  0.27142678  0.76218053\n",
      " -0.22081111 -0.04293767  2.32892475 -0.83731819]\n",
      "\n",
      "(10,)\n"
     ]
    }
   ],
   "source": [
    "#Crear una copia y ordenar\n",
    "\n",
    "sorted = np.array(unsorted)\n",
    "sorted.sort()\n",
    "\n",
    "print(sorted)\n",
    "print()\n",
    "print(unsorted)\n",
    "print()\n",
    "print(unsorted.shape)"
   ]
  },
  {
   "cell_type": "code",
   "execution_count": 24,
   "metadata": {},
   "outputs": [
    {
     "name": "stdout",
     "output_type": "stream",
     "text": [
      "[-0.83731819 -0.82410475 -0.22081111 -0.04293767  0.05899271  0.27142678\n",
      "  0.60691929  0.76218053  0.7998332   2.32892475]\n"
     ]
    }
   ],
   "source": [
    "#Ordenando el mismo arreglo sin hacer una copia\n",
    "\n",
    "unsorted.sort()\n",
    "print(unsorted)"
   ]
  },
  {
   "cell_type": "markdown",
   "metadata": {},
   "source": [
    "<p>Encontrando elementos unicos.</p>"
   ]
  },
  {
   "cell_type": "code",
   "execution_count": 25,
   "metadata": {},
   "outputs": [
    {
     "name": "stdout",
     "output_type": "stream",
     "text": [
      "[1 2 4]\n"
     ]
    }
   ],
   "source": [
    "arreglo = np.array([1,2,1,4,2,1,4,2])\n",
    "print(np.unique(arreglo))"
   ]
  },
  {
   "cell_type": "markdown",
   "metadata": {},
   "source": [
    "<p>Operaciones de conjuntos con np.array tipo de dato.</p>"
   ]
  },
  {
   "cell_type": "code",
   "execution_count": 26,
   "metadata": {},
   "outputs": [
    {
     "name": "stdout",
     "output_type": "stream",
     "text": [
      "['escritorio' 'silla' 'tubo'] ['lampara' 'tubo' 'silla']\n"
     ]
    }
   ],
   "source": [
    "c1 = np.array([\"escritorio\", \"silla\", \"tubo\"])\n",
    "c2 = np.array([\"lampara\", \"tubo\", \"silla\"])\n",
    "print(c1, c2)"
   ]
  },
  {
   "cell_type": "code",
   "execution_count": 27,
   "metadata": {},
   "outputs": [
    {
     "name": "stdout",
     "output_type": "stream",
     "text": [
      "['silla' 'tubo']\n"
     ]
    }
   ],
   "source": [
    "#Interseccion de 2 conjuntos\n",
    "\n",
    "print(np.intersect1d(c1, c2))"
   ]
  },
  {
   "cell_type": "code",
   "execution_count": 28,
   "metadata": {},
   "outputs": [
    {
     "name": "stdout",
     "output_type": "stream",
     "text": [
      "['escritorio' 'lampara' 'silla' 'tubo']\n"
     ]
    }
   ],
   "source": [
    "#union de 2 conjutnos\n",
    "\n",
    "print(np.union1d( c1, c2))"
   ]
  },
  {
   "cell_type": "code",
   "execution_count": 29,
   "metadata": {},
   "outputs": [
    {
     "name": "stdout",
     "output_type": "stream",
     "text": [
      "['escritorio']\n"
     ]
    }
   ],
   "source": [
    "#Elementos que estan en c1 pero no en c2\n",
    "\n",
    "print(np.setdiff1d(c1, c2))"
   ]
  },
  {
   "cell_type": "code",
   "execution_count": 31,
   "metadata": {},
   "outputs": [
    {
     "name": "stdout",
     "output_type": "stream",
     "text": [
      "['escritorio' 'silla' 'tubo']\n",
      "[False  True  True]\n"
     ]
    }
   ],
   "source": [
    "#Que elemento de c1 tambien esta en c2\n",
    "print(c1)\n",
    "print(np.in1d(c1, c2))"
   ]
  },
  {
   "cell_type": "markdown",
   "metadata": {},
   "source": [
    "<p>Broadcasting.</p>"
   ]
  },
  {
   "cell_type": "code",
   "execution_count": 2,
   "metadata": {},
   "outputs": [
    {
     "name": "stdout",
     "output_type": "stream",
     "text": [
      "[[0. 0. 0.]\n",
      " [0. 0. 0.]\n",
      " [0. 0. 0.]\n",
      " [0. 0. 0.]]\n"
     ]
    }
   ],
   "source": [
    "import numpy as np\n",
    "\n",
    "start = np.zeros((4,3))\n",
    "print(start)"
   ]
  },
  {
   "cell_type": "code",
   "execution_count": 3,
   "metadata": {},
   "outputs": [
    {
     "name": "stdout",
     "output_type": "stream",
     "text": [
      "[1 0 2]\n"
     ]
    }
   ],
   "source": [
    "#Creamos un narreglo de rango 1 con 3 valores\n",
    "\n",
    "add_rows = np.array([1, 0, 2])\n",
    "print(add_rows)"
   ]
  },
  {
   "cell_type": "code",
   "execution_count": 5,
   "metadata": {},
   "outputs": [
    {
     "name": "stdout",
     "output_type": "stream",
     "text": [
      "[[1. 0. 2.]\n",
      " [1. 0. 2.]\n",
      " [1. 0. 2.]\n",
      " [1. 0. 2.]]\n"
     ]
    }
   ],
   "source": [
    "#Sucamos cada columna de 'start' usando broadcasting\n",
    "\n",
    "y = start + add_rows\n",
    "print(y)"
   ]
  },
  {
   "cell_type": "code",
   "execution_count": 7,
   "metadata": {},
   "outputs": [
    {
     "name": "stdout",
     "output_type": "stream",
     "text": [
      "[[0]\n",
      " [1]\n",
      " [2]\n",
      " [3]]\n"
     ]
    }
   ],
   "source": [
    "#Crear un narreglo de 4x1 \n",
    "add_cols = np.array([[0,1,2,3]])\n",
    "add_cols = add_cols.T\n",
    "\n",
    "print(add_cols)"
   ]
  },
  {
   "cell_type": "code",
   "execution_count": 8,
   "metadata": {},
   "outputs": [
    {
     "name": "stdout",
     "output_type": "stream",
     "text": [
      "[[0. 0. 0.]\n",
      " [1. 1. 1.]\n",
      " [2. 2. 2.]\n",
      " [3. 3. 3.]]\n"
     ]
    }
   ],
   "source": [
    "#sumamos a cada columna de 'start' usando broadcasting\n",
    "\n",
    "y = start + add_cols\n",
    "print(y)"
   ]
  },
  {
   "cell_type": "code",
   "execution_count": 9,
   "metadata": {},
   "outputs": [
    {
     "name": "stdout",
     "output_type": "stream",
     "text": [
      "[[1. 1. 1.]\n",
      " [1. 1. 1.]\n",
      " [1. 1. 1.]\n",
      " [1. 1. 1.]]\n"
     ]
    }
   ],
   "source": [
    "#Esto sumara en ambas dimensiones\n",
    "add_scalar = np.array([1])\n",
    "print(start + add_scalar)"
   ]
  },
  {
   "cell_type": "markdown",
   "metadata": {},
   "source": [
    "<p>Ejemplos.</p>"
   ]
  },
  {
   "cell_type": "code",
   "execution_count": 12,
   "metadata": {},
   "outputs": [
    {
     "name": "stdout",
     "output_type": "stream",
     "text": [
      "[[ 1  2  3  4]\n",
      " [ 5  6  7  8]\n",
      " [ 9 10 11 12]]\n"
     ]
    }
   ],
   "source": [
    "#Crar una matriz de 3x4\n",
    "\n",
    "matriz = np.array([[1,2,3,4], [5,6,7,8],[9,10,11,12]])\n",
    "print(matriz)"
   ]
  },
  {
   "cell_type": "code",
   "execution_count": 13,
   "metadata": {},
   "outputs": [
    {
     "name": "stdout",
     "output_type": "stream",
     "text": [
      "[0, 1, 0, 2]\n"
     ]
    }
   ],
   "source": [
    "#Crear una matriz de 4x1\n",
    "matrizB = [0,1,0,2]\n",
    "print(matrizB)"
   ]
  },
  {
   "cell_type": "code",
   "execution_count": 14,
   "metadata": {},
   "outputs": [
    {
     "name": "stdout",
     "output_type": "stream",
     "text": [
      "[[ 1  3  3  6]\n",
      " [ 5  7  7 10]\n",
      " [ 9 11 11 14]]\n"
     ]
    }
   ],
   "source": [
    "#Sumar las dos juntas usando broadcasting\n",
    "print(matriz + matrizB)"
   ]
  },
  {
   "cell_type": "markdown",
   "metadata": {},
   "source": [
    "<p>test de velocidad: narreglos vs listas.</p>"
   ]
  },
  {
   "cell_type": "code",
   "execution_count": 17,
   "metadata": {},
   "outputs": [],
   "source": [
    "from numpy import arange\n",
    "from timeit import Timer\n",
    "\n",
    "size    = 1000000\n",
    "timeits = 1000"
   ]
  },
  {
   "cell_type": "code",
   "execution_count": 18,
   "metadata": {},
   "outputs": [
    {
     "name": "stdout",
     "output_type": "stream",
     "text": [
      "<class 'numpy.ndarray'>\n"
     ]
    }
   ],
   "source": [
    "#Crear un nareglo con valores 0,1,2..., size-1\n",
    "nd_array = arange(size)\n",
    "print(type(nd_array))"
   ]
  },
  {
   "cell_type": "code",
   "execution_count": 21,
   "metadata": {},
   "outputs": [
    {
     "name": "stdout",
     "output_type": "stream",
     "text": [
      "Tiempo que tomo por numpy: 0.000919 segundos\n"
     ]
    }
   ],
   "source": [
    "#\"timer\" espera la operacion como un parametro\n",
    "#pasamos nd_array.sum()\n",
    "\n",
    "timer_numpy = Timer(\"nd_array.sum()\", \"from __main__ import nd_array\")\n",
    "\n",
    "print(\"Tiempo que tomo por numpy: %f segundos\" %\n",
    "     (timer_numpy.timeit(timeits)/timeits))\n"
   ]
  },
  {
   "cell_type": "code",
   "execution_count": 22,
   "metadata": {},
   "outputs": [
    {
     "name": "stdout",
     "output_type": "stream",
     "text": [
      "<class 'list'>\n"
     ]
    }
   ],
   "source": [
    "#Crear una lista con valores 0,1,2,...,size-1\n",
    "\n",
    "lista = list(range(size))\n",
    "print(type(lista))"
   ]
  },
  {
   "cell_type": "code",
   "execution_count": 24,
   "metadata": {},
   "outputs": [
    {
     "name": "stdout",
     "output_type": "stream",
     "text": [
      "Tiempo que tomo:  0.057771 segundos\n"
     ]
    }
   ],
   "source": [
    "\n",
    "timer_list = Timer(\"sum(lista)\", \"from __main__ import lista\")\n",
    "\n",
    "print(\"Tiempo que tomo:  %f segundos\" % \n",
    "      (timer_list.timeit(timeits)/timeits))"
   ]
  },
  {
   "cell_type": "markdown",
   "metadata": {},
   "source": [
    "<p>Escribir o leer en disco.</p>\n",
    "<br>"
   ]
  },
  {
   "cell_type": "code",
   "execution_count": 1,
   "metadata": {},
   "outputs": [],
   "source": [
    "import numpy as np\n",
    "\n",
    "x = np.array([23.23, 24.24])"
   ]
  },
  {
   "cell_type": "code",
   "execution_count": 4,
   "metadata": {},
   "outputs": [],
   "source": [
    "#Formato binario\n",
    "\n",
    "np.save('arreglo', x)"
   ]
  },
  {
   "cell_type": "code",
   "execution_count": 5,
   "metadata": {},
   "outputs": [
    {
     "data": {
      "text/plain": [
       "array([23.23, 24.24])"
      ]
     },
     "execution_count": 5,
     "metadata": {},
     "output_type": "execute_result"
    }
   ],
   "source": [
    "np.load('arreglo.npy')"
   ]
  },
  {
   "cell_type": "code",
   "execution_count": 6,
   "metadata": {},
   "outputs": [],
   "source": [
    "#Formato de texto\n",
    "\n",
    "np.savetxt(\"arreglo.txt\", X=x, delimiter=',')"
   ]
  },
  {
   "cell_type": "code",
   "execution_count": 8,
   "metadata": {},
   "outputs": [
    {
     "data": {
      "text/plain": [
       "array([23.23, 24.24])"
      ]
     },
     "execution_count": 8,
     "metadata": {},
     "output_type": "execute_result"
    }
   ],
   "source": [
    "np.loadtxt(\"arreglo.txt\", delimiter=',')"
   ]
  },
  {
   "cell_type": "markdown",
   "metadata": {},
   "source": [
    "<p>Operaciones comunes de narreglos adicionales.</p>\n",
    "<br>\n",
    "<p>Producto punto en matrices y producto de vectores.</p>"
   ]
  },
  {
   "cell_type": "code",
   "execution_count": 15,
   "metadata": {},
   "outputs": [
    {
     "name": "stdout",
     "output_type": "stream",
     "text": [
      "[[1 1]\n",
      " [1 1]]\n",
      "\n",
      "[[2 2]\n",
      " [2 2]]\n",
      "----------------------------------------\n",
      "[[4 4]\n",
      " [4 4]]\n",
      "----------------------------------------\n",
      "[[4 4]\n",
      " [4 4]]\n"
     ]
    }
   ],
   "source": [
    "#Calcular el producto punto de dos matrices\n",
    "\n",
    "x2d = np.array([[1,1], [1,1]])\n",
    "y2d = np.array([[2,2], [2,2]])\n",
    "\n",
    "print(x2d)\n",
    "print()\n",
    "print(y2d)\n",
    "print(\"-\"*40)\n",
    "print(x2d.dot(y2d))\n",
    "print(\"-\"*40)\n",
    "print(np.dot(x2d, y2d))"
   ]
  },
  {
   "cell_type": "code",
   "execution_count": 16,
   "metadata": {},
   "outputs": [
    {
     "name": "stdout",
     "output_type": "stream",
     "text": [
      "180\n",
      "----------------------------------------\n",
      "180\n"
     ]
    }
   ],
   "source": [
    "#Calcular el producto interno de dos vectores\n",
    "\n",
    "a1d = np.array([9,9])\n",
    "b1d = np.array([10,10])\n",
    "\n",
    "print(a1d.dot(b1d))\n",
    "print(\"-\"*40)\n",
    "print(np.dot(a1d,b1d))"
   ]
  },
  {
   "cell_type": "code",
   "execution_count": 17,
   "metadata": {},
   "outputs": [
    {
     "name": "stdout",
     "output_type": "stream",
     "text": [
      "[18 18]\n",
      "----------------------------------------\n",
      "[18 18]\n"
     ]
    }
   ],
   "source": [
    "#Producto puntop de un vector y un arreglo\n",
    "print(x2d.dot(a1d))\n",
    "print(\"-\"*40)\n",
    "print(np.dot(x2d, a1d))"
   ]
  },
  {
   "cell_type": "markdown",
   "metadata": {},
   "source": [
    "<br>\n",
    "<p>Suma.</p>\n",
    "<br>"
   ]
  },
  {
   "cell_type": "code",
   "execution_count": 18,
   "metadata": {},
   "outputs": [
    {
     "name": "stdout",
     "output_type": "stream",
     "text": [
      "66\n"
     ]
    }
   ],
   "source": [
    "#Sumar elementos de un arreglo\n",
    "\n",
    "ej1 = np.array([[11,12], [21,22]])\n",
    "\n",
    "print(np.sum(ej1))"
   ]
  },
  {
   "cell_type": "code",
   "execution_count": 19,
   "metadata": {},
   "outputs": [
    {
     "name": "stdout",
     "output_type": "stream",
     "text": [
      "[32 34]\n"
     ]
    }
   ],
   "source": [
    "#Suma elementos de las columnas\n",
    "\n",
    "print(np.sum(ej1, axis=0))"
   ]
  },
  {
   "cell_type": "code",
   "execution_count": 20,
   "metadata": {},
   "outputs": [
    {
     "name": "stdout",
     "output_type": "stream",
     "text": [
      "[23 43]\n"
     ]
    }
   ],
   "source": [
    "#Suma elementos de las filas\n",
    "\n",
    "print(np.sum(ej1, axis=1))"
   ]
  },
  {
   "cell_type": "markdown",
   "metadata": {},
   "source": [
    "<p>Otras funciones.</p>"
   ]
  },
  {
   "cell_type": "code",
   "execution_count": 21,
   "metadata": {},
   "outputs": [
    {
     "data": {
      "text/plain": [
       "array([ 0.36327646, -1.06751602, -1.29254067, -0.23823999,  0.00717195,\n",
       "        1.85561232,  0.38788635,  0.07719153])"
      ]
     },
     "execution_count": 21,
     "metadata": {},
     "output_type": "execute_result"
    }
   ],
   "source": [
    "#Comparar 2 arreglos y crear otro con los maximos \n",
    "\n",
    "x = np.random.randn(8)\n",
    "x"
   ]
  },
  {
   "cell_type": "code",
   "execution_count": 22,
   "metadata": {},
   "outputs": [
    {
     "data": {
      "text/plain": [
       "array([ 0.6772336 ,  0.94552733, -0.39150829, -1.10579326, -1.49246667,\n",
       "        0.80039992,  0.3321545 , -1.06328441])"
      ]
     },
     "execution_count": 22,
     "metadata": {},
     "output_type": "execute_result"
    }
   ],
   "source": [
    "y = np.random.randn(8)\n",
    "y"
   ]
  },
  {
   "cell_type": "code",
   "execution_count": 23,
   "metadata": {},
   "outputs": [
    {
     "data": {
      "text/plain": [
       "array([ 0.6772336 ,  0.94552733, -0.39150829, -0.23823999,  0.00717195,\n",
       "        1.85561232,  0.38788635,  0.07719153])"
      ]
     },
     "execution_count": 23,
     "metadata": {},
     "output_type": "execute_result"
    }
   ],
   "source": [
    "#Devuelve el arreglo de maximos entre los dos arreglos\n",
    "\n",
    "np.maximum(x, y)"
   ]
  },
  {
   "cell_type": "markdown",
   "metadata": {},
   "source": [
    "<br>\n",
    "<p>Reformando arreglo.</p>"
   ]
  },
  {
   "cell_type": "code",
   "execution_count": 24,
   "metadata": {},
   "outputs": [
    {
     "name": "stdout",
     "output_type": "stream",
     "text": [
      "[ 0  1  2  3  4  5  6  7  8  9 10 11 12 13 14 15 16 17 18 19]\n"
     ]
    }
   ],
   "source": [
    "#Crear un arreglo de valores del 0 al 19\n",
    "\n",
    "arreglo = np.arange(20)\n",
    "print(arreglo)"
   ]
  },
  {
   "cell_type": "code",
   "execution_count": 25,
   "metadata": {},
   "outputs": [
    {
     "data": {
      "text/plain": [
       "array([[ 0,  1,  2,  3,  4],\n",
       "       [ 5,  6,  7,  8,  9],\n",
       "       [10, 11, 12, 13, 14],\n",
       "       [15, 16, 17, 18, 19]])"
      ]
     },
     "execution_count": 25,
     "metadata": {},
     "output_type": "execute_result"
    }
   ],
   "source": [
    "#Reformando el areglo a una matriz de 4x5\n",
    "arreglo.reshape(4,5)"
   ]
  },
  {
   "cell_type": "markdown",
   "metadata": {},
   "source": [
    "<p>Transpuesta de una matriz.</p>"
   ]
  },
  {
   "cell_type": "code",
   "execution_count": 26,
   "metadata": {},
   "outputs": [
    {
     "data": {
      "text/plain": [
       "array([[11, 21],\n",
       "       [12, 22]])"
      ]
     },
     "execution_count": 26,
     "metadata": {},
     "output_type": "execute_result"
    }
   ],
   "source": [
    "#Transpuesta\n",
    "\n",
    "ej1 = np.array([[11,12], [21,22]])\n",
    "ej1.T"
   ]
  },
  {
   "cell_type": "markdown",
   "metadata": {},
   "source": [
    "<p>Indexando usando where().</p>"
   ]
  },
  {
   "cell_type": "code",
   "execution_count": 27,
   "metadata": {},
   "outputs": [],
   "source": [
    "x1 = np.array([1,2,3,4,5])\n",
    "\n",
    "y1 = np.array([11,22,33,44,55])\n",
    "\n",
    "filtro = np.array([True, False, True, False, True])"
   ]
  },
  {
   "cell_type": "code",
   "execution_count": 28,
   "metadata": {},
   "outputs": [
    {
     "name": "stdout",
     "output_type": "stream",
     "text": [
      "[ 1 22  3 44  5]\n"
     ]
    }
   ],
   "source": [
    "out = np.where(filtro, x1, y1)\n",
    "print(out)"
   ]
  },
  {
   "cell_type": "code",
   "execution_count": 29,
   "metadata": {},
   "outputs": [
    {
     "data": {
      "text/plain": [
       "array([[0.29490446, 0.40497728, 0.30351454, 0.15965273, 0.04835696],\n",
       "       [0.18329142, 0.56791589, 0.71942574, 0.28648676, 0.57056295],\n",
       "       [0.40340498, 0.89000025, 0.31382377, 0.93154628, 0.97964105],\n",
       "       [0.62222545, 0.43925927, 0.63042257, 0.75234751, 0.34399475],\n",
       "       [0.97885988, 0.94551097, 0.80863246, 0.83383312, 0.85477988]])"
      ]
     },
     "execution_count": 29,
     "metadata": {},
     "output_type": "execute_result"
    }
   ],
   "source": [
    "mat = np.random.rand(5,5)\n",
    "mat"
   ]
  },
  {
   "cell_type": "code",
   "execution_count": 30,
   "metadata": {},
   "outputs": [
    {
     "data": {
      "text/plain": [
       "array([[  -1,   -1,   -1,   -1,   -1],\n",
       "       [  -1, 1000, 1000,   -1, 1000],\n",
       "       [  -1, 1000,   -1, 1000, 1000],\n",
       "       [1000,   -1, 1000, 1000,   -1],\n",
       "       [1000, 1000, 1000, 1000, 1000]])"
      ]
     },
     "execution_count": 30,
     "metadata": {},
     "output_type": "execute_result"
    }
   ],
   "source": [
    "np.where( mat > 0.5, 1000, -1)\n",
    "#Donde es menor a 0.5 pone -1, sino 1000"
   ]
  },
  {
   "cell_type": "markdown",
   "metadata": {},
   "source": [
    "<p>Condicionales \"any\" y \"all\".</p>"
   ]
  },
  {
   "cell_type": "code",
   "execution_count": 37,
   "metadata": {},
   "outputs": [],
   "source": [
    "arreglo_booleanos = np.array([ True, False, True, True, False ])"
   ]
  },
  {
   "cell_type": "code",
   "execution_count": 33,
   "metadata": {},
   "outputs": [
    {
     "data": {
      "text/plain": [
       "True"
      ]
     },
     "execution_count": 33,
     "metadata": {},
     "output_type": "execute_result"
    }
   ],
   "source": [
    "arreglo_booleanos.any()"
   ]
  },
  {
   "cell_type": "code",
   "execution_count": 38,
   "metadata": {},
   "outputs": [
    {
     "data": {
      "text/plain": [
       "False"
      ]
     },
     "execution_count": 38,
     "metadata": {},
     "output_type": "execute_result"
    }
   ],
   "source": [
    "arreglo_booleanos.all()"
   ]
  },
  {
   "cell_type": "markdown",
   "metadata": {},
   "source": [
    "<p>Generacion de numeros al azar.</p>"
   ]
  },
  {
   "cell_type": "code",
   "execution_count": 42,
   "metadata": {},
   "outputs": [
    {
     "name": "stdout",
     "output_type": "stream",
     "text": [
      "[ 0.61364519 -1.13496255  0.57580048  0.15395256  1.55259476]\n"
     ]
    }
   ],
   "source": [
    "y = np.random.normal(size = (1,5))[0]\n",
    "print(y)"
   ]
  },
  {
   "cell_type": "code",
   "execution_count": 46,
   "metadata": {},
   "outputs": [
    {
     "name": "stdout",
     "output_type": "stream",
     "text": [
      "[31 24 11  2 27]\n"
     ]
    }
   ],
   "source": [
    "z = np.random.randint(low=2, high=50, size=(5))\n",
    "print(z)"
   ]
  },
  {
   "cell_type": "code",
   "execution_count": 47,
   "metadata": {},
   "outputs": [
    {
     "data": {
      "text/plain": [
       "array([27, 11,  2, 24, 31])"
      ]
     },
     "execution_count": 47,
     "metadata": {},
     "output_type": "execute_result"
    }
   ],
   "source": [
    "np.random.permutation(z)\n",
    "#devuelve un nuevo orden de z"
   ]
  },
  {
   "cell_type": "code",
   "execution_count": 50,
   "metadata": {},
   "outputs": [
    {
     "data": {
      "text/plain": [
       "array([0.82902221, 0.81210099, 0.97619611, 0.37402878])"
      ]
     },
     "execution_count": 50,
     "metadata": {},
     "output_type": "execute_result"
    }
   ],
   "source": [
    "np.random.uniform(size=4)"
   ]
  },
  {
   "cell_type": "code",
   "execution_count": 51,
   "metadata": {},
   "outputs": [
    {
     "data": {
      "text/plain": [
       "array([-0.21810175,  0.35561405,  0.87476879,  0.31905176])"
      ]
     },
     "execution_count": 51,
     "metadata": {},
     "output_type": "execute_result"
    }
   ],
   "source": [
    "np.random.normal(size=4)"
   ]
  },
  {
   "cell_type": "markdown",
   "metadata": {},
   "source": [
    "<p>Uniendo data sets.</p>"
   ]
  },
  {
   "cell_type": "code",
   "execution_count": 54,
   "metadata": {},
   "outputs": [
    {
     "name": "stdout",
     "output_type": "stream",
     "text": [
      "[[46  5]\n",
      " [17 30]]\n",
      "\n",
      "[[11 10]\n",
      " [27  8]]\n"
     ]
    }
   ],
   "source": [
    "k = np.random.randint(low=2, high=50,size=(2,2))\n",
    "print(k)\n",
    "\n",
    "print()\n",
    "m = np.random.randint(low=2,high=50,size=(2,2))\n",
    "print(m)"
   ]
  },
  {
   "cell_type": "code",
   "execution_count": 55,
   "metadata": {},
   "outputs": [
    {
     "data": {
      "text/plain": [
       "array([[46,  5],\n",
       "       [17, 30],\n",
       "       [11, 10],\n",
       "       [27,  8]])"
      ]
     },
     "execution_count": 55,
     "metadata": {},
     "output_type": "execute_result"
    }
   ],
   "source": [
    "np.vstack((k,m))"
   ]
  },
  {
   "cell_type": "code",
   "execution_count": 56,
   "metadata": {},
   "outputs": [
    {
     "data": {
      "text/plain": [
       "array([[46,  5, 11, 10],\n",
       "       [17, 30, 27,  8]])"
      ]
     },
     "execution_count": 56,
     "metadata": {},
     "output_type": "execute_result"
    }
   ],
   "source": [
    "np.hstack((k,m))"
   ]
  },
  {
   "cell_type": "code",
   "execution_count": 59,
   "metadata": {},
   "outputs": [
    {
     "data": {
      "text/plain": [
       "array([[46,  5],\n",
       "       [17, 30],\n",
       "       [11, 10],\n",
       "       [27,  8]])"
      ]
     },
     "execution_count": 59,
     "metadata": {},
     "output_type": "execute_result"
    }
   ],
   "source": [
    "np.concatenate([k,m], axis = 0)     #axis = 0"
   ]
  }
 ],
 "metadata": {
  "kernelspec": {
   "display_name": "Python 3",
   "language": "python",
   "name": "python3"
  },
  "language_info": {
   "codemirror_mode": {
    "name": "ipython",
    "version": 3
   },
   "file_extension": ".py",
   "mimetype": "text/x-python",
   "name": "python",
   "nbconvert_exporter": "python",
   "pygments_lexer": "ipython3",
   "version": "3.7.1"
  }
 },
 "nbformat": 4,
 "nbformat_minor": 2
}
