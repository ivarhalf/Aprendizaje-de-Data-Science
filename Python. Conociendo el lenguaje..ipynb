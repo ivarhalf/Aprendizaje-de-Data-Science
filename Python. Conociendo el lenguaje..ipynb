{
 "cells": [
  {
   "cell_type": "markdown",
   "metadata": {},
   "source": [
    "<h1 style=\"text-align: center; color: red;\">Anotaciones de Python.</h1>"
   ]
  },
  {
   "cell_type": "markdown",
   "metadata": {},
   "source": [
    "<h3>Variables en Python.</h3>"
   ]
  },
  {
   "cell_type": "markdown",
   "metadata": {},
   "source": [
    "<h5>Tipos comunes en Python.</h5>\n",
    "<p>Numericos: Enteros, Flotantes, Complejos.</p>\n",
    "<p>Secuencia: Lista, Tupla, Rango</p>\n",
    "<p>Binario: Byte, Bytearray</p>\n",
    "<p>Verdadero/Falso: Booleano</p>\n",
    "<p>Texto: String</p>"
   ]
  },
  {
   "cell_type": "code",
   "execution_count": 2,
   "metadata": {},
   "outputs": [
    {
     "name": "stdout",
     "output_type": "stream",
     "text": [
      "4.5\n"
     ]
    }
   ],
   "source": [
    "#Ejemplos\n",
    "x = 3\n",
    "y = 1.5\n",
    "z = x + y\n",
    "print(z)"
   ]
  },
  {
   "cell_type": "markdown",
   "metadata": {},
   "source": [
    "<p>Python soporta escritura dinamica, esto es que si se \"declara\" una variable con un determinado tipo, mas tarde se puede cambiar completamente el tipo.</p>"
   ]
  },
  {
   "cell_type": "code",
   "execution_count": 3,
   "metadata": {},
   "outputs": [
    {
     "name": "stdout",
     "output_type": "stream",
     "text": [
      "4\n",
      "Hola mundo\n"
     ]
    }
   ],
   "source": [
    "#Ejemplo de dinamismo.\n",
    "x = 4\n",
    "print (x)\n",
    "x = \"Hola mundo\"\n",
    "print(x)"
   ]
  },
  {
   "cell_type": "markdown",
   "metadata": {},
   "source": [
    "<p>Se observa que el primer resultado impreso en pantalla mediante \"print\" fue 4, luego se asigno \"Hola mundo\" a X y posteriormente fue impresa en pantalla.</p>\n",
    "<p>Para poder visualizar distintas variables o cadenas escritas por el usuario se usa: print(x), siendo x la variable o la cadena. Si se desea visualizar una cadena, es necesario poner comillas print(\"Hola, soy un ejemplo de cadena\").</p>"
   ]
  },
  {
   "cell_type": "code",
   "execution_count": 4,
   "metadata": {},
   "outputs": [
    {
     "name": "stdout",
     "output_type": "stream",
     "text": [
      "Hola, soy una cadena\n"
     ]
    }
   ],
   "source": [
    "#Visualizacion de cadena\n",
    "\n",
    "print(\"Hola, soy una cadena\")"
   ]
  },
  {
   "cell_type": "markdown",
   "metadata": {},
   "source": [
    "<p>Si se desea averiguar si una variable es igual a otra se utiliza \"is\", pero si se desea averiguar si una variable tiene el mismo valor se utiliza \"==\".</p>"
   ]
  },
  {
   "cell_type": "code",
   "execution_count": 5,
   "metadata": {},
   "outputs": [
    {
     "data": {
      "text/plain": [
       "False"
      ]
     },
     "execution_count": 5,
     "metadata": {},
     "output_type": "execute_result"
    }
   ],
   "source": [
    "#¿x es igual a y?\n",
    "x = 3\n",
    "y = 3.0\n",
    "x is y"
   ]
  },
  {
   "cell_type": "markdown",
   "metadata": {},
   "source": [
    "<p>Como se puede observar, x no es igual a y aunque las dos variables representen al numero Tres.</p>"
   ]
  },
  {
   "cell_type": "code",
   "execution_count": 7,
   "metadata": {},
   "outputs": [
    {
     "data": {
      "text/plain": [
       "True"
      ]
     },
     "execution_count": 7,
     "metadata": {},
     "output_type": "execute_result"
    }
   ],
   "source": [
    "x = 3\n",
    "y = 3.0\n",
    "x == y"
   ]
  },
  {
   "cell_type": "markdown",
   "metadata": {},
   "source": [
    "<p>En el ejemplo de arriba observamos que x e y son iguales en valor.</p>"
   ]
  },
  {
   "cell_type": "markdown",
   "metadata": {},
   "source": [
    "<h3>Loops en Python</h3>"
   ]
  },
  {
   "cell_type": "markdown",
   "metadata": {},
   "source": [
    "<h5>For loop</h5>\n",
    "<p>for i in range(empieza, termina, paso):</p>\n",
    "<br>\n",
    "<p>El loop \"for\" en python hace lo siguiente: recorre todos los lugares especificados en \"paso\" desde \"empieza\" hasta \"termina\".</p>"
   ]
  },
  {
   "cell_type": "code",
   "execution_count": 8,
   "metadata": {},
   "outputs": [
    {
     "name": "stdout",
     "output_type": "stream",
     "text": [
      "0\n",
      "1\n",
      "2\n",
      "3\n",
      "4\n",
      "5\n",
      "6\n",
      "7\n",
      "8\n",
      "9\n"
     ]
    }
   ],
   "source": [
    "#Ejemplo for loop 1\n",
    "for i in range(0, 10, 1):\n",
    "    print(i)"
   ]
  },
  {
   "cell_type": "markdown",
   "metadata": {},
   "source": [
    "<p>Vemos que devuelve los valores del 0 al 9. Empieza por 0 incluyendolo; termina en 10 excluyendolo; y recorre de uno en uno.</p>"
   ]
  },
  {
   "cell_type": "code",
   "execution_count": 9,
   "metadata": {},
   "outputs": [
    {
     "name": "stdout",
     "output_type": "stream",
     "text": [
      "0\n",
      "2\n",
      "4\n",
      "6\n",
      "8\n"
     ]
    }
   ],
   "source": [
    "#Ejemplo for loop 2\n",
    "for i in range(0, 10, 2):\n",
    "    print(i)"
   ]
  },
  {
   "cell_type": "markdown",
   "metadata": {},
   "source": [
    "<p>En el ejemplo 2 podemos ver que recorre del 0 al 9 pero de dos numeros en dos, dando como resultante todos los numeros pares entre el 0 y el 9.</p>"
   ]
  },
  {
   "cell_type": "markdown",
   "metadata": {},
   "source": [
    "<h5>While loop</h5>\n",
    "<p>El loop While, se repetira siempre y cuando una determinada condicion, especificada por nosotros, se cumpla. Hay que tener cuidado para no provocar loops infinitos y asi perder el control de nuestro algoritmo.</p>"
   ]
  },
  {
   "cell_type": "code",
   "execution_count": 11,
   "metadata": {},
   "outputs": [
    {
     "name": "stdout",
     "output_type": "stream",
     "text": [
      "0\n",
      "1\n",
      "2\n",
      "3\n",
      "4\n",
      "5\n",
      "6\n",
      "7\n",
      "8\n",
      "9\n"
     ]
    }
   ],
   "source": [
    "#Ejemplo de while loop\n",
    "\n",
    "i = 0\n",
    "while i < 10:\n",
    "    print(i)\n",
    "    i+=1"
   ]
  },
  {
   "cell_type": "markdown",
   "metadata": {},
   "source": [
    "<p>En el ejemplo de while loop 1, se puede ver que realizamos lo mismo que con el loop for.</p>"
   ]
  },
  {
   "cell_type": "markdown",
   "metadata": {},
   "source": [
    "<h5>Condicionales en Python.</h5>"
   ]
  },
  {
   "cell_type": "code",
   "execution_count": 12,
   "metadata": {},
   "outputs": [
    {
     "name": "stdout",
     "output_type": "stream",
     "text": [
      "0\n",
      "2\n",
      "4\n",
      "6\n",
      "8\n"
     ]
    }
   ],
   "source": [
    "#¿Que podemos hacer para solo mostrar los numeros pares en un for loop\n",
    "#sin declararlo explicitamente en el rango?\n",
    "\n",
    "for i in range(0, 10):\n",
    "    if i % 2 == 0:\n",
    "        print(i)"
   ]
  },
  {
   "cell_type": "markdown",
   "metadata": {},
   "source": [
    "<p>En Python existe \"if\", \"elif\", \"else\": primero se evaluara la condicion dada en \"if\", seguido se evaluara la condicion de \"elif\" (Aclaracion: puede haber tantos \"elif\" como se necesiten), y por ultimo se evaluara \"else\".</p>"
   ]
  },
  {
   "cell_type": "code",
   "execution_count": 15,
   "metadata": {},
   "outputs": [
    {
     "name": "stdout",
     "output_type": "stream",
     "text": [
      "Muy grande\n"
     ]
    }
   ],
   "source": [
    "x = 20         #Cambiar el valor de x para probar los rangos.\n",
    "if x < 10:\n",
    "    print(\"Menor a 10\")\n",
    "elif x > 10 and x < 20:\n",
    "    print(\"En rango\")\n",
    "else:\n",
    "    print(\"Muy grande\")"
   ]
  },
  {
   "cell_type": "markdown",
   "metadata": {},
   "source": [
    "<h3>Funciones</h3>"
   ]
  },
  {
   "cell_type": "code",
   "execution_count": 17,
   "metadata": {},
   "outputs": [
    {
     "name": "stdout",
     "output_type": "stream",
     "text": [
      "Numero positivo\n"
     ]
    }
   ],
   "source": [
    "#Definiendo nuestra primer funcion\n",
    "\n",
    "def mi_funcion(valor):\n",
    "    if valor < 0:\n",
    "        print(\"Numero negativo\")\n",
    "    else:\n",
    "        print(\"Numero positivo\")\n",
    "        \n",
    "mi_funcion(9)   #Llamado a la funcion."
   ]
  },
  {
   "cell_type": "code",
   "execution_count": 18,
   "metadata": {},
   "outputs": [
    {
     "name": "stdout",
     "output_type": "stream",
     "text": [
      "5\n"
     ]
    }
   ],
   "source": [
    "#Definiendo nuestra segunda funcion\n",
    "\n",
    "def mi_funcion(valor):\n",
    "    if valor < 0:\n",
    "        return 0 - valor\n",
    "    return valor\n",
    "\n",
    "print(mi_funcion(-5))"
   ]
  },
  {
   "cell_type": "markdown",
   "metadata": {},
   "source": [
    "<p>Primero necesitamos empezar con la palabra \"def\", esto indica que definiremos una nueva funcion. Seguido, colocaremos el nombre de nuestra funcion y entre parentesis se colocaran los parametros (pueden NO haber parametros); seguido de  dos puntos \":\".\n",
    "Abajo de los dos puntos estara nuestro codigo, el cual puede o no retornar algun valor de salida.</p>\n",
    "<p>Para retornar algun valor de salida se utiliza la palabra \"return\" seguido de un espacio.</p>"
   ]
  },
  {
   "cell_type": "markdown",
   "metadata": {},
   "source": [
    "<h2 style=\"color: blue;\">Estructuras de Datos en Python.</h2>"
   ]
  },
  {
   "cell_type": "markdown",
   "metadata": {},
   "source": [
    "<h5>Funciones de cadenas</h5>"
   ]
  },
  {
   "cell_type": "code",
   "execution_count": 22,
   "metadata": {},
   "outputs": [
    {
     "name": "stdout",
     "output_type": "stream",
     "text": [
      "hola\n",
      "------------------------------\n",
      "HOLA\n"
     ]
    }
   ],
   "source": [
    "#Cambiar la capitalizacion de una cadena\n",
    "\n",
    "palabra = \"Hola\"\n",
    "print(palabra.lower())\n",
    "\n",
    "print(\"-\" * 30)\n",
    "\n",
    "print(palabra.upper())\n"
   ]
  },
  {
   "cell_type": "code",
   "execution_count": 24,
   "metadata": {},
   "outputs": [
    {
     "name": "stdout",
     "output_type": "stream",
     "text": [
      "Hola mundo\n"
     ]
    }
   ],
   "source": [
    "#Concatenacion de cadenas\n",
    "\n",
    "palabra_1 = \"Hola\"\n",
    "palabra_2 = \" mundo\"\n",
    "\n",
    "palabra_resultante = palabra_1 + palabra_2\n",
    "print(palabra_resultante)"
   ]
  },
  {
   "cell_type": "code",
   "execution_count": 25,
   "metadata": {},
   "outputs": [
    {
     "name": "stdout",
     "output_type": "stream",
     "text": [
      "Hola! Hola! Hola! Hola! Hola! Hola! Hola! Hola! Hola! Hola! Hola! Hola! Hola! Hola! Hola! Hola! Hola! Hola! Hola! Hola! Hola! Hola! Hola! Hola! Hola! Hola! Hola! Hola! Hola! Hola! \n"
     ]
    }
   ],
   "source": [
    "#Replica de cadenas\n",
    "palabra = \"Hola! \"\n",
    "print(palabra * 30)"
   ]
  },
  {
   "cell_type": "code",
   "execution_count": 28,
   "metadata": {},
   "outputs": [
    {
     "name": "stdout",
     "output_type": "stream",
     "text": [
      "     Extras \n",
      "\n",
      "Extras\n"
     ]
    }
   ],
   "source": [
    "#Strip\n",
    "#Strip remueve todos los caracteres \"x\" especificados, por defecto remueve los espacios.\n",
    "\n",
    "cadena = '     Extras \\n'\n",
    "print(cadena)\n",
    "print(cadena.strip())"
   ]
  },
  {
   "cell_type": "code",
   "execution_count": 30,
   "metadata": {},
   "outputs": [
    {
     "name": "stdout",
     "output_type": "stream",
     "text": [
      "Hola\n"
     ]
    }
   ],
   "source": [
    "#Strip\n",
    "\n",
    "cadena = \"*******Hola*******\"\n",
    "print(cadena.strip('*'))"
   ]
  },
  {
   "cell_type": "code",
   "execution_count": 34,
   "metadata": {},
   "outputs": [
    {
     "name": "stdout",
     "output_type": "stream",
     "text": [
      "['Hola', 'mi', 'nombre', 'es', 'Javier']\n"
     ]
    }
   ],
   "source": [
    "#Split devuelve una lista de las cadenas usadas, separadas por 'x' caracter\n",
    "\n",
    "cadena = \"Hola mi nombre es Javier\"\n",
    "print(cadena.split(' '))"
   ]
  },
  {
   "cell_type": "code",
   "execution_count": 35,
   "metadata": {},
   "outputs": [
    {
     "name": "stdout",
     "output_type": "stream",
     "text": [
      "av\n"
     ]
    }
   ],
   "source": [
    "#Slicing\n",
    "#Slicing devuelve una cadena con la magnitud especificada: slicing[1:3]\n",
    "#siendo 1 inclusivo y 3 exclusivo\n",
    "\n",
    "palabra = \"Javier\"\n",
    "print(palabra[1:3])"
   ]
  },
  {
   "cell_type": "code",
   "execution_count": 37,
   "metadata": {},
   "outputs": [
    {
     "name": "stdout",
     "output_type": "stream",
     "text": [
      "vie\n"
     ]
    }
   ],
   "source": [
    "#Reverse slicing\n",
    "palabra = \"Javier\"\n",
    "print(palabra[-4: -1])"
   ]
  },
  {
   "cell_type": "code",
   "execution_count": 38,
   "metadata": {},
   "outputs": [
    {
     "data": {
      "text/plain": [
       "False"
      ]
     },
     "execution_count": 38,
     "metadata": {},
     "output_type": "execute_result"
    }
   ],
   "source": [
    "#Substring \n",
    "palabra = \"Hola\"\n",
    "'HO' in palabra"
   ]
  },
  {
   "cell_type": "code",
   "execution_count": 39,
   "metadata": {},
   "outputs": [
    {
     "data": {
      "text/plain": [
       "True"
      ]
     },
     "execution_count": 39,
     "metadata": {},
     "output_type": "execute_result"
    }
   ],
   "source": [
    "'Ho' in palabra"
   ]
  },
  {
   "cell_type": "code",
   "execution_count": 41,
   "metadata": {},
   "outputs": [
    {
     "data": {
      "text/plain": [
       "1"
      ]
     },
     "execution_count": 41,
     "metadata": {},
     "output_type": "execute_result"
    }
   ],
   "source": [
    "#Find devuelve el menor indice encontrado \n",
    "palabra.find('ol')"
   ]
  },
  {
   "cell_type": "code",
   "execution_count": 45,
   "metadata": {},
   "outputs": [
    {
     "name": "stdout",
     "output_type": "stream",
     "text": [
      "1234.0\n"
     ]
    }
   ],
   "source": [
    "#Convirtiendo a numeros\n",
    "palabra = \"1234\"\n",
    "print(float(palabra))\n",
    "\n",
    "#Aclaracion: Solo se pueden convertir cadenas a numeros a aquellas cadenas que sus caracteres representen numeros"
   ]
  },
  {
   "cell_type": "code",
   "execution_count": 48,
   "metadata": {},
   "outputs": [
    {
     "data": {
      "text/plain": [
       "'Nosotros amamos programar en python'"
      ]
     },
     "execution_count": 48,
     "metadata": {},
     "output_type": "execute_result"
    }
   ],
   "source": [
    "#Dando forma a cadenas\n",
    "\n",
    "oracion = 'Nosotros amamos {2} {1} {0}'\n",
    "oracion.format('python', 'en', 'programar')\n",
    "\n",
    "#Notese el orden de los numeros que van entre llaves. Esto da mayor manejo"
   ]
  },
  {
   "cell_type": "markdown",
   "metadata": {},
   "source": [
    "<h5>Listas en Python.</h5>"
   ]
  },
  {
   "cell_type": "code",
   "execution_count": 49,
   "metadata": {},
   "outputs": [
    {
     "data": {
      "text/plain": [
       "22"
      ]
     },
     "execution_count": 49,
     "metadata": {},
     "output_type": "execute_result"
    }
   ],
   "source": [
    "#Creando una lista\n",
    "\n",
    "lista = [11, 22, 33]\n",
    "#        0   1    2\n",
    "\n",
    "lista[1]"
   ]
  },
  {
   "cell_type": "code",
   "execution_count": 50,
   "metadata": {},
   "outputs": [
    {
     "name": "stdout",
     "output_type": "stream",
     "text": [
      "11\n",
      "22\n",
      "33\n"
     ]
    }
   ],
   "source": [
    "#Iterando una lista\n",
    "for i in lista:\n",
    "    print(i)"
   ]
  },
  {
   "cell_type": "code",
   "execution_count": 51,
   "metadata": {},
   "outputs": [
    {
     "name": "stdout",
     "output_type": "stream",
     "text": [
      "[11, 99, 33]\n"
     ]
    }
   ],
   "source": [
    "#Cambiando el contenido de una lista\n",
    "lista[1] = 99\n",
    "print(lista)"
   ]
  },
  {
   "cell_type": "code",
   "execution_count": 52,
   "metadata": {},
   "outputs": [
    {
     "name": "stdout",
     "output_type": "stream",
     "text": [
      "[11, 99, 33, 44]\n"
     ]
    }
   ],
   "source": [
    "#Agregando contenido a una lista\n",
    "\n",
    "lista.append(44)\n",
    "print(lista)"
   ]
  },
  {
   "cell_type": "code",
   "execution_count": 54,
   "metadata": {},
   "outputs": [
    {
     "name": "stdout",
     "output_type": "stream",
     "text": [
      "[11, 99, 44]\n"
     ]
    }
   ],
   "source": [
    "#Eliminando elementos de una lista\n",
    "#El metodo .pop() toma como parametro un indice y no un valor\n",
    "lista.pop(2)\n",
    "print(lista)"
   ]
  },
  {
   "cell_type": "code",
   "execution_count": 55,
   "metadata": {},
   "outputs": [
    {
     "name": "stdout",
     "output_type": "stream",
     "text": [
      "[99, 44]\n"
     ]
    }
   ],
   "source": [
    "#El metodo .remove() toma como parametro un valor\n",
    "\n",
    "lista.remove(11)\n",
    "print(lista)"
   ]
  },
  {
   "cell_type": "code",
   "execution_count": 56,
   "metadata": {},
   "outputs": [
    {
     "name": "stdout",
     "output_type": "stream",
     "text": [
      "[0, 1, 2, 3, 4, 5]\n"
     ]
    }
   ],
   "source": [
    "#Uniendo una lista a otra\n",
    "lista_1 = [0, 1, 2]\n",
    "lista_2 = [3, 4, 5]\n",
    "\n",
    "lista_1.extend(lista_2)\n",
    "print(lista_1)"
   ]
  },
  {
   "cell_type": "code",
   "execution_count": 57,
   "metadata": {},
   "outputs": [
    {
     "name": "stdout",
     "output_type": "stream",
     "text": [
      "0 ,  3\n",
      "1 ,  4\n",
      "2 ,  5\n"
     ]
    }
   ],
   "source": [
    "#Zipping listas\n",
    "\n",
    "lista_1 = [0, 1, 2]\n",
    "lista_2 = [3, 4, 5]\n",
    "\n",
    "for x,y in zip(lista_1, lista_2):\n",
    "    print(x, \", \", y)"
   ]
  },
  {
   "cell_type": "markdown",
   "metadata": {},
   "source": [
    "<h5>Tuplas en Python</h5>\n",
    "<p style=\"color:blue;\">Las tuplas tienen una estructura muy similar a las listas, pero no se pueden modificar una vez definidas.</p>"
   ]
  },
  {
   "cell_type": "code",
   "execution_count": 60,
   "metadata": {},
   "outputs": [
    {
     "name": "stdout",
     "output_type": "stream",
     "text": [
      "('Honda', 'Civic', 4, 2017)\n"
     ]
    }
   ],
   "source": [
    "#Creando una tupla\n",
    "\n",
    "tupla = ('Honda', 'Civic', 4, 2017)\n",
    "print(tupla)"
   ]
  },
  {
   "cell_type": "code",
   "execution_count": 61,
   "metadata": {},
   "outputs": [
    {
     "data": {
      "text/plain": [
       "'Civic'"
      ]
     },
     "execution_count": 61,
     "metadata": {},
     "output_type": "execute_result"
    }
   ],
   "source": [
    "#Preguntando por elementos de la tupla\n",
    "\n",
    "tupla[1]"
   ]
  },
  {
   "cell_type": "code",
   "execution_count": 64,
   "metadata": {},
   "outputs": [
    {
     "data": {
      "text/plain": [
       "4"
      ]
     },
     "execution_count": 64,
     "metadata": {},
     "output_type": "execute_result"
    }
   ],
   "source": [
    "#Preguntando el tamaño de una tupla\n",
    "\n",
    "len(tupla)"
   ]
  },
  {
   "cell_type": "code",
   "execution_count": 65,
   "metadata": {},
   "outputs": [
    {
     "name": "stdout",
     "output_type": "stream",
     "text": [
      "Honda\n",
      "Civic\n",
      "4\n",
      "2017\n"
     ]
    }
   ],
   "source": [
    "#Iterando en una tupla\n",
    "\n",
    "for i in tupla:\n",
    "    print(i)"
   ]
  },
  {
   "cell_type": "markdown",
   "metadata": {},
   "source": [
    "<h5>Diccionarios en Python.</h5>\n",
    "<p>Es una estructura de datos basada en una llave y un valor (key-value)</p>"
   ]
  },
  {
   "cell_type": "code",
   "execution_count": 67,
   "metadata": {},
   "outputs": [
    {
     "data": {
      "text/plain": [
       "{('Ghostbusters', 2016): 5.4, ('Ghostbusters', 1984): 7.8}"
      ]
     },
     "execution_count": 67,
     "metadata": {},
     "output_type": "execute_result"
    }
   ],
   "source": [
    "#Creando un diccionario\n",
    "\n",
    "diccionario = {('Ghostbusters', 2016): 5.4, ('Ghostbusters', 1984): 7.8}\n",
    "diccionario"
   ]
  },
  {
   "cell_type": "code",
   "execution_count": 68,
   "metadata": {},
   "outputs": [
    {
     "data": {
      "text/plain": [
       "5.4"
      ]
     },
     "execution_count": 68,
     "metadata": {},
     "output_type": "execute_result"
    }
   ],
   "source": [
    "#Preguntando por valores\n",
    "\n",
    "diccionario[('Ghostbusters', 2016)]"
   ]
  },
  {
   "cell_type": "markdown",
   "metadata": {},
   "source": [
    "<p>Aclaracion: en el ejemplo de usaron tuplas como llaves(key).</p>"
   ]
  },
  {
   "cell_type": "code",
   "execution_count": 69,
   "metadata": {},
   "outputs": [
    {
     "data": {
      "text/plain": [
       "2"
      ]
     },
     "execution_count": 69,
     "metadata": {},
     "output_type": "execute_result"
    }
   ],
   "source": [
    "#Preguntando dimension del diccionario\n",
    "\n",
    "len(diccionario)"
   ]
  },
  {
   "cell_type": "code",
   "execution_count": 88,
   "metadata": {},
   "outputs": [
    {
     "data": {
      "text/plain": [
       "{('Ghostbusters', 2016): 5.4, ('Ghostbusters', 1984): 7.8, ('Cars', 2006): 7.1}"
      ]
     },
     "execution_count": 88,
     "metadata": {},
     "output_type": "execute_result"
    }
   ],
   "source": [
    "#Añadiendo elementos al diccionario\n",
    "\n",
    "diccionario[('Cars', 2006)] = 7.1\n",
    "\n",
    "diccionario"
   ]
  },
  {
   "cell_type": "code",
   "execution_count": 71,
   "metadata": {},
   "outputs": [
    {
     "name": "stdout",
     "output_type": "stream",
     "text": [
      "7.1\n"
     ]
    }
   ],
   "source": [
    "#Manera segura de obtener informacion  de un diccionario\n",
    "\n",
    "x = diccionario.get(('Cars', 2006))\n",
    "print(x)"
   ]
  },
  {
   "cell_type": "code",
   "execution_count": 72,
   "metadata": {},
   "outputs": [
    {
     "name": "stdout",
     "output_type": "stream",
     "text": [
      "None\n"
     ]
    }
   ],
   "source": [
    "x = diccionario.get(('Toy Story', 1995))\n",
    "print(x)"
   ]
  },
  {
   "cell_type": "code",
   "execution_count": 73,
   "metadata": {},
   "outputs": [
    {
     "data": {
      "text/plain": [
       "False"
      ]
     },
     "execution_count": 73,
     "metadata": {},
     "output_type": "execute_result"
    }
   ],
   "source": [
    "#Usando la palabra \"in\" se podra saber si el valor buscado se encuentra o no en el diccionario\n",
    "#devolvera True o False\n",
    "\n",
    "('Toy Story', 1995) in diccionario"
   ]
  },
  {
   "cell_type": "code",
   "execution_count": 74,
   "metadata": {},
   "outputs": [
    {
     "name": "stdout",
     "output_type": "stream",
     "text": [
      "{('Ghostbusters', 2016): 5.4, ('Ghostbusters', 1984): 7.8, ('Cars', 2006): 7.1}\n"
     ]
    }
   ],
   "source": [
    "#Eliminando elementos de un diccionario\n",
    "print(diccionario)"
   ]
  },
  {
   "cell_type": "code",
   "execution_count": 75,
   "metadata": {},
   "outputs": [
    {
     "data": {
      "text/plain": [
       "5.4"
      ]
     },
     "execution_count": 75,
     "metadata": {},
     "output_type": "execute_result"
    }
   ],
   "source": [
    "diccionario.pop(('Ghostbusters', 2016))"
   ]
  },
  {
   "cell_type": "code",
   "execution_count": 77,
   "metadata": {},
   "outputs": [
    {
     "name": "stdout",
     "output_type": "stream",
     "text": [
      "{('Ghostbusters', 1984): 7.8, ('Cars', 2006): 7.1}\n"
     ]
    }
   ],
   "source": [
    "#Vemos si el elemento fue eliminado\n",
    "print(diccionario)"
   ]
  },
  {
   "cell_type": "code",
   "execution_count": null,
   "metadata": {},
   "outputs": [],
   "source": []
  },
  {
   "cell_type": "code",
   "execution_count": 84,
   "metadata": {},
   "outputs": [],
   "source": [
    "#Se puede utilizar el comando \"del\"\n",
    "\n",
    "del diccionario[('Cars',2006)]\n"
   ]
  },
  {
   "cell_type": "code",
   "execution_count": 85,
   "metadata": {},
   "outputs": [
    {
     "name": "stdout",
     "output_type": "stream",
     "text": [
      "{('Ghostbusters', 1984): 7.8}\n"
     ]
    }
   ],
   "source": [
    "print(diccionario)"
   ]
  },
  {
   "cell_type": "code",
   "execution_count": 86,
   "metadata": {},
   "outputs": [
    {
     "name": "stdout",
     "output_type": "stream",
     "text": [
      "('Ghostbusters', 2016)\n",
      "('Ghostbusters', 1984)\n"
     ]
    }
   ],
   "source": [
    "#Iterando a traves de un diccionario\n",
    "diccionario = {('Ghostbusters', 2016): 5.4, ('Ghostbusters', 1984): 7.8}\n",
    "\n",
    "for i in diccionario:\n",
    "    print(i)"
   ]
  },
  {
   "cell_type": "code",
   "execution_count": 87,
   "metadata": {},
   "outputs": [
    {
     "name": "stdout",
     "output_type": "stream",
     "text": [
      "('Ghostbusters', 2016) : 5.4\n",
      "('Ghostbusters', 1984) : 7.8\n"
     ]
    }
   ],
   "source": [
    "#Para mostar key-value se debe hacer:\n",
    "\n",
    "for key, value in diccionario.items():\n",
    "    print(key,\":\",value)"
   ]
  },
  {
   "cell_type": "code",
   "execution_count": 89,
   "metadata": {},
   "outputs": [
    {
     "name": "stdout",
     "output_type": "stream",
     "text": [
      "{('Ghostbusters', 2016): 5.4, ('Cars', 2006): 7.1}\n"
     ]
    }
   ],
   "source": [
    "#Para eliminar elementos mientras se itera se debe hacer:\n",
    "\n",
    "para_eliminar = []\n",
    "for i in diccionario:\n",
    "    if(i[1] < 2000):\n",
    "        para_eliminar.append(i)\n",
    "for i in para_eliminar:\n",
    "    diccionario.pop(i)\n",
    "print(diccionario)"
   ]
  },
  {
   "cell_type": "markdown",
   "metadata": {},
   "source": [
    "<h5>Compresion de listas y diccionarios.</h5>"
   ]
  },
  {
   "cell_type": "code",
   "execution_count": 90,
   "metadata": {},
   "outputs": [
    {
     "name": "stdout",
     "output_type": "stream",
     "text": [
      "[1, 4, 9, 16, 25, 36, 49, 64, 81, 100]\n"
     ]
    }
   ],
   "source": [
    "#Creando lista de forma compacta\n",
    "\n",
    "lista = [i**2 for i in range(1,11)]\n",
    "print(lista)"
   ]
  },
  {
   "cell_type": "markdown",
   "metadata": {},
   "source": [
    "<p style=\"color:red;\">El resultado de esa lista esta dado por: todos los numeros del 1 al 10 elevados al cuadrado.</p>"
   ]
  },
  {
   "cell_type": "code",
   "execution_count": 93,
   "metadata": {},
   "outputs": [
    {
     "name": "stdout",
     "output_type": "stream",
     "text": [
      "[0, 1, 2, 3, 4, 5]\n"
     ]
    }
   ],
   "source": [
    "#Creando una lista compacta del 0 al 5\n",
    "lista = [i for i in range(0,6)]\n",
    "print(lista)"
   ]
  },
  {
   "cell_type": "code",
   "execution_count": 94,
   "metadata": {},
   "outputs": [
    {
     "name": "stdout",
     "output_type": "stream",
     "text": [
      "[0, 2, 4, 6, 8, 10, 12, 14, 16, 18, 20]\n"
     ]
    }
   ],
   "source": [
    "#Creando lista compacta de todos los numeros pares desde 1 hasta 20\n",
    "\n",
    "lista = [i for i in range(0,21,2)]\n",
    "print(lista)"
   ]
  },
  {
   "cell_type": "code",
   "execution_count": 96,
   "metadata": {},
   "outputs": [
    {
     "name": "stdout",
     "output_type": "stream",
     "text": [
      "[5, 8, 6, 3, 3, 2, 0, 0, 1, 13]\n"
     ]
    }
   ],
   "source": [
    "#Creando lista compacta de numeros randoms\n",
    "import random\n",
    "\n",
    "lista = [random.randint(0,19) for i in range(0, 10)]\n",
    "print(lista)"
   ]
  },
  {
   "cell_type": "code",
   "execution_count": 97,
   "metadata": {},
   "outputs": [
    {
     "name": "stdout",
     "output_type": "stream",
     "text": [
      "{1: 1, 2: 4, 3: 9, 4: 16, 5: 25, 6: 36, 7: 49, 8: 64, 9: 81, 10: 100}\n"
     ]
    }
   ],
   "source": [
    "#Creando diccionarios de forma compacta\n",
    "\n",
    "diccionario = {i : i**2 for i in range(1,11)}\n",
    "print(diccionario)"
   ]
  },
  {
   "cell_type": "code",
   "execution_count": 99,
   "metadata": {},
   "outputs": [
    {
     "name": "stdout",
     "output_type": "stream",
     "text": [
      "{65: 'A', 66: 'B', 67: 'C', 68: 'D', 69: 'E', 70: 'F', 71: 'G', 72: 'H', 73: 'I', 74: 'J', 75: 'K', 76: 'L', 77: 'M', 78: 'N', 79: 'O', 80: 'P', 81: 'Q', 82: 'R', 83: 'S', 84: 'T', 85: 'U', 86: 'V', 87: 'W', 88: 'X', 89: 'Y', 90: 'Z'}\n"
     ]
    }
   ],
   "source": [
    "#Creando diccionario de caracteres con su correspondiente ascii\n",
    "\n",
    "diccionario = {i: chr(i) for i in range(65, 91)}\n",
    "print(diccionario)"
   ]
  },
  {
   "cell_type": "markdown",
   "metadata": {},
   "source": [
    "<h5>Conjuntos.</h5>\n",
    "<p>Los conjuntos en Python soy estructuras de datos no ordenadas, unicas(no perminter duplicados) y soportan operaciones tales como union e interseccion.</p>"
   ]
  },
  {
   "cell_type": "code",
   "execution_count": 100,
   "metadata": {},
   "outputs": [
    {
     "name": "stdout",
     "output_type": "stream",
     "text": [
      "{'rojo', 'verde', 'azul'}\n"
     ]
    }
   ],
   "source": [
    "#Creando un conjunto\n",
    "\n",
    "colores = set(['azul', 'verde', 'rojo'])\n",
    "print(colores)"
   ]
  },
  {
   "cell_type": "code",
   "execution_count": 101,
   "metadata": {},
   "outputs": [
    {
     "name": "stdout",
     "output_type": "stream",
     "text": [
      "{'rojo', 'verde', 'amarillo', 'azul'}\n"
     ]
    }
   ],
   "source": [
    "#Agregando nuevo elemento al conjunto\n",
    "\n",
    "colores.add('amarillo')\n",
    "print(colores)"
   ]
  },
  {
   "cell_type": "code",
   "execution_count": 103,
   "metadata": {},
   "outputs": [
    {
     "name": "stdout",
     "output_type": "stream",
     "text": [
      "{'rojo', 'verde', 'azul'}\n"
     ]
    }
   ],
   "source": [
    "#Eliminando elemento del conjunto\n",
    "\n",
    "colores.discard('amarillo')\n",
    "print(colores)"
   ]
  },
  {
   "cell_type": "code",
   "execution_count": 104,
   "metadata": {},
   "outputs": [
    {
     "name": "stdout",
     "output_type": "stream",
     "text": [
      "{'amarillo', 'azul', 'rojo', 'verde'}\n"
     ]
    }
   ],
   "source": [
    "#Union de dos conjuntos\n",
    "\n",
    "mis_colores = set(['rojo', 'verde', 'azul'])\n",
    "tus_colores = set(['azul', 'amarillo'])\n",
    "\n",
    "nuestros_colores = tus_colores.union(mis_colores)\n",
    "print(nuestros_colores)"
   ]
  },
  {
   "cell_type": "code",
   "execution_count": 107,
   "metadata": {},
   "outputs": [
    {
     "name": "stdout",
     "output_type": "stream",
     "text": [
      "{'azul'}\n"
     ]
    }
   ],
   "source": [
    "#Interseccion de dos conjuntos\n",
    "\n",
    "mis_colores = set(['rojo', 'verde', 'azul'])\n",
    "tus_colores = set(['azul', 'amarillo'])\n",
    "\n",
    "nuestros_colores = tus_colores.intersection(mis_colores)\n",
    "print(nuestros_colores)\n"
   ]
  },
  {
   "cell_type": "code",
   "execution_count": 111,
   "metadata": {},
   "outputs": [
    {
     "name": "stdout",
     "output_type": "stream",
     "text": [
      "Union:  {'amarillo', 'azul', 'rojo', 'verde'}\n",
      "Interseccion:  {'azul'}\n"
     ]
    }
   ],
   "source": [
    "#Una forma rapida de hacer union e interseccion es con los simbolos\n",
    "# \"│\" y \"&\" respectivamente\n",
    "\n",
    "mis_colores = set(['rojo', 'verde', 'azul'])\n",
    "tus_colores = set(['azul', 'amarillo'])\n",
    "\n",
    "print(\"Union: \", mis_colores | tus_colores)\n",
    "\n",
    "print(\"Interseccion: \", mis_colores & tus_colores)"
   ]
  }
 ],
 "metadata": {
  "kernelspec": {
   "display_name": "Python 3",
   "language": "python",
   "name": "python3"
  },
  "language_info": {
   "codemirror_mode": {
    "name": "ipython",
    "version": 3
   },
   "file_extension": ".py",
   "mimetype": "text/x-python",
   "name": "python",
   "nbconvert_exporter": "python",
   "pygments_lexer": "ipython3",
   "version": "3.7.1"
  }
 },
 "nbformat": 4,
 "nbformat_minor": 2
}
